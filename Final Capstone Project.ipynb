{
 "cells": [
  {
   "cell_type": "markdown",
   "metadata": {},
   "source": [
    "# Applied Data Science Capstone\n",
    "## Comparison of Cities - Karachi VS Islamabad\n",
    "### Part of IBM Data Science Professional Specialization on Coursera"
   ]
  },
  {
   "cell_type": "markdown",
   "metadata": {},
   "source": [
    "### Introduction:\n",
    "\n",
    "During this capstone project we would be looking at Real Estate industry's data of two major cities in Pakistan, Karachi and Islamabad.\n",
    "\n",
    "Karachi is the industrial hub of Pakistan with over 14.9 Million people of various groups, affiliations, backgrounds and ethnicities residing there.\n",
    "\n",
    "On the other hand Islamabad is the capital of Pakistan which has seen growth in Real Estate industry in past 1-2 years as compared to other cities.\n",
    "\n",
    "#### Data & Source:\n",
    "\n",
    "Our dataset is taken from an online Real Estate portal \"Zameen.com\" which lists various real estate listing in various cities, including Karachi and Islamabad. The dataset has location data (longitude & latitude) for each listing, the type, size, value and amenities of each listing.\n",
    "\n",
    "We shall utilize Foursquare API for segmentation and then use clustering algorithms to determine commonalities between various localities in our listing dataset.\n",
    "\n",
    "#### Stakeholders:\n",
    "\n",
    "This report will help potential buyers and investors in making educated decisions regarding their purchases or investment. Stakeholders for this report will be buyers, investors and Real Estate marketing portals."
   ]
  },
  {
   "cell_type": "code",
   "execution_count": null,
   "metadata": {},
   "outputs": [],
   "source": []
  }
 ],
 "metadata": {
  "kernelspec": {
   "display_name": "Python 3",
   "language": "python",
   "name": "python3"
  },
  "language_info": {
   "codemirror_mode": {
    "name": "ipython",
    "version": 3
   },
   "file_extension": ".py",
   "mimetype": "text/x-python",
   "name": "python",
   "nbconvert_exporter": "python",
   "pygments_lexer": "ipython3",
   "version": "3.7.3"
  }
 },
 "nbformat": 4,
 "nbformat_minor": 2
}
